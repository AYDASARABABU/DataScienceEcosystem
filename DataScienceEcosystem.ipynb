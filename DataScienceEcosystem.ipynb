{
  "metadata": {
    "kernelspec": {
      "name": "python",
      "display_name": "Python (Pyodide)",
      "language": "python"
    },
    "language_info": {
      "codemirror_mode": {
        "name": "python",
        "version": 3
      },
      "file_extension": ".py",
      "mimetype": "text/x-python",
      "name": "python",
      "nbconvert_exporter": "python",
      "pygments_lexer": "ipython3",
      "version": "3.8"
    }
  },
  "nbformat_minor": 5,
  "nbformat": 4,
  "cells": [
    {
      "id": "5b76416f-13db-4b77-b259-5ad6ca1512b4",
      "cell_type": "code",
      "source": "# Data Science Tools and Ecosystem\n",
      "metadata": {
        "trusted": true
      },
      "outputs": [],
      "execution_count": 2
    },
    {
      "id": "a82b992a-a52b-400a-9530-235e0df2f669",
      "cell_type": "markdown",
      "source": "In this notebook, Data Science Tools and Ecosystem are summarized.",
      "metadata": {}
    },
    {
      "id": "8a682b40-0043-4742-aa2a-c80e99e14b1f",
      "cell_type": "markdown",
      "source": "Some of the popular languages that Data Scientists use are:\n1. Python\n2. R\n3. SQL",
      "metadata": {}
    },
    {
      "id": "aa915426-b190-4f52-966b-c9e5c7dcc130",
      "cell_type": "markdown",
      "source": "Some of the commonly used libraries used by Data Scientists include:\n1. Pandas\n2. NumPy\n3. Matplotlib",
      "metadata": {}
    },
    {
      "id": "47bc2ab1-82b2-45d9-bde0-301ead9b9f2a",
      "cell_type": "markdown",
      "source": "| Data Science Tools |\n| --- |\n| Jupyter Notebook |\n| Apache Spark |\n| TensorFlow |",
      "metadata": {}
    },
    {
      "id": "a0f73efb-74e3-4295-b4ce-55cb3d48f768",
      "cell_type": "markdown",
      "source": "### Below are a few examples of evaluating arithmetic expressions in Python.",
      "metadata": {}
    },
    {
      "id": "46c40135-5386-4809-95f2-2c2e65ab58d0",
      "cell_type": "code",
      "source": "# This is a simple arithmetic expression to multiply then add integers\nresult = (3 * 4) + 5\nprint(result)",
      "metadata": {
        "trusted": true
      },
      "outputs": [
        {
          "name": "stdout",
          "output_type": "stream",
          "text": "17\n"
        }
      ],
      "execution_count": 9
    },
    {
      "id": "0b853583-db09-4e1f-80db-e924f94e1965",
      "cell_type": "code",
      "source": "# This will convert 200 minutes to hours by dividing by 60\nhours = 200 / 60\nprint(hours)",
      "metadata": {
        "trusted": true
      },
      "outputs": [
        {
          "name": "stdout",
          "output_type": "stream",
          "text": "3.3333333333333335\n"
        }
      ],
      "execution_count": 10
    },
    {
      "id": "61e18b31-bccf-4862-bf57-4ec077a65bb3",
      "cell_type": "markdown",
      "source": "**Objectives:**\n* List popular languages for Data Science\n* List commonly used libraries in Data Science\n* Evaluate arithmetic expressions in Python\n* Convert units of time in Python",
      "metadata": {}
    },
    {
      "id": "5398e7d4-88c3-4bc6-a03d-d184eef1bb35",
      "cell_type": "markdown",
      "source": "## Author\nAYDA SARA BABU\n",
      "metadata": {}
    },
    {
      "id": "e6d956d6-281a-4bf2-b807-dde3a93597fc",
      "cell_type": "code",
      "source": "",
      "metadata": {
        "trusted": true
      },
      "outputs": [],
      "execution_count": null
    }
  ]
}